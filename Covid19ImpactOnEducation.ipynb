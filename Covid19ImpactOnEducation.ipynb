{
 "metadata": {
  "language_info": {
   "codemirror_mode": {
    "name": "ipython",
    "version": 3
   },
   "file_extension": ".py",
   "mimetype": "text/x-python",
   "name": "python",
   "nbconvert_exporter": "python",
   "pygments_lexer": "ipython3",
   "version": "3.6.3-candidate"
  },
  "orig_nbformat": 2,
  "kernelspec": {
   "name": "python36364bitf7b0a21c4aca4c308ea561c4f3e5ac90",
   "display_name": "Python 3.6.3 64-bit"
  }
 },
 "nbformat": 4,
 "nbformat_minor": 2,
 "cells": [
  {
   "source": [
    "# Covid19 Impact on K-12 Education\n",
    "By Megan Nalani Chun  \n",
    "Last modified November 2020\n",
    "\n",
    "## Motivation and Problem Statement\n",
    "The children of today will be the decision makers of tomorrow and their education will help determine what those decisions will be. The Covid19 pandemic has changed daily normal activity drastically for people around the world and some areas of society have been impacted more than others. The focus of this study will be on K-12 education during Covid19 since the pandemic and lack of national government guidance has forced school districts to implement varying policies such as those in the data section below. I hope to learn the following:\n",
    "- How much school did students miss?\n",
    "- Under what factors is there a significant difference in the amount of school missed? If there was a similar pandemic, would early implementation of certain policies allow students to have a better continued education? \n",
    "- Do school districts with more income have more access to the internet? And are these districts more likely to have an online policy?\n",
    "\n",
    "## Data \n",
    "This analysis will be scoped to students enrolled in public and private schools across the United States. The following datasets will be used because of their completeness, trustworthiness, and accessibility in addition to their contents. Licensing and data source information can be found in the [readme](https://github.com/NalaniKai/data-512-final/blob/main/README.md).\n",
    "\n",
    "Combining these datasets by school districts and counties will enable the research questions to be explored.\n",
    "\n",
    "### Covid19 K-12 Education Data by MCH Strategic Data\n",
    "This dataset has the following information for 12,643 (86%) school districts in the US:\n",
    "- Enrollment \n",
    "- School open date \n",
    "- Teaching methods (online, on premise, etc)\n",
    "- Sports participation \n",
    "- Online instruction increase\n",
    "- Network investment\n",
    "- Hardware investment\n",
    "- Staff mask policy\n",
    "- Student mask policy\n",
    "- Student illness return policy\n",
    "- Student isolation area \n",
    "- School temporary shutdown \n",
    "\n",
    "Data source: Covid19 K-12 Education Data by MCH Strategic Data. Compiled from public federal, state, and local school districts information and media updates. Go to the [Main page](https://www.mchdata.com/covid19/schoolclosings), scroll down, make a free account, and press the \"download list of districts\" button. Select subscribe and sign up for free subscription to download the dataset. No credit card information is needed.\n",
    "\n",
    "Licensing: [MCH 2019 Standard Licensing Stipulations and Conditions Agreement](https://www.mchdata.com/about/terms-conditions)\n",
    "\n",
    "### Demographic Data from the Institute of Education Sciences\n",
    "The following demographic data was pulled from this dataset for all school districts in the US:\n",
    "- Race \n",
    "- Income\n",
    "- Computer & internet availability \n",
    "- School enrollment\n",
    "\n",
    "Data source: Education Demographic and Geographic Estimates. National Center for Education Statistics. Institute of Education Sciences.   \n",
    "- [Dataset: ACS 2014-2018 Profile](https://nces.ed.gov/programs/edge/TableViewer/acsProfile/2018)  \n",
    "- Geography: All Districts  \n",
    "- Population: Relevant Children  \n",
    "- Tables:          \n",
    "        - CDP02.2 SCHOOL ENROLLMENT [CDP02.2_102_USSchoolDistrictAll_111231815433.txt](https://github.com/NalaniKai/data-512-final/blob/main/Data/CDP02.2_102_USSchoolDistrictAll_111231815433.txt)  \n",
    "        - CDP02.11 COMPUTERS AND INTERNET USE [CDP02.11_102_USSchoolDistrictAll_111233642475.txt](https://github.com/NalaniKai/data-512-final/blob/main/Data/CDP02.11_102_USSchoolDistrictAll_111233642475.txt)  \n",
    "        - CDP03.2 INCOME AND BENEFITS (IN 2018 INFLATION-ADJUSTED DOLLARS) [CDP03.2_102_USSchoolDistrictAll_111234614792.txt](https://github.com/NalaniKai/data-512-final/blob/main/Data/CDP03.2_102_USSchoolDistrictAll_111234614792.txt)  \n",
    "        - CDP05.2 RACE [CDP05.2_102_USSchoolDistrictAll_11123448541.txt](https://github.com/NalaniKai/data-512-final/blob/main/Data/CDP05.2_102_USSchoolDistrictAll_11123448541.txt)  \n",
    "\n",
    "Licensing: [Open Data Policy](https://digital.gov/open-data-policy-m-13-13/) \n",
    "\n",
    "### Johns Hopkins University COVID-19 Data\n",
    "This dataset has the daily Covid19 case counts by county and is continually being updated.\n",
    "\n",
    "Data source: COVID-19 Data Repository by the Center for Systems Science and Engineering (CSSE) at Johns Hopkins University. [csse_covid_19_daily_reports_us](https://github.com/CSSEGISandData/COVID-19/tree/master/csse_covid_19_data/csse_covid_19_daily_reports_us)\n",
    "\n",
    "Licensing: [Public Domain U.S.- Johns Hopkins University Center for Systems Science and Engineering. [Creative Commons Attribution 4.0 International (CC BY 4.0)](https://creativecommons.org/licenses/by/4.0/deed.ast)\n",
    "\n",
    "### Intermediary Data Source for Covid19 Data Sources\n",
    "This dataset will be used to join the Covid19 school district data to the Covid19 case count data.\n",
    "\n",
    "Data source: United States Census Bureau [School Districts and Associated Counties](https://www.census.gov/programs-surveys/saipe/guidance-geographies/districts-counties.html).\n",
    "\n",
    "Licensing: [Public Domain U.S. Government](https://www.usa.gov/government-works)\n",
    "\n",
    "## Unknowns & Dependencies \n",
    "There are a couple dependencies and unknowns that will need to be checked: \n",
    "- the percent of matches when joining the above datasets by their school district IDs and county codes\n",
    "- the amount of missing data\n"
   ],
   "cell_type": "markdown",
   "metadata": {}
  },
  {
   "source": [
    "## Research questions and/or hypotheses\n",
    "\n",
    "The overarching research question for this analysis is: What is the impact of Covid19 on school closures and teaching methods for K-12 students across the US? How does this differ for students based on race, income, and computer/internet access?\n",
    "\n",
    "Hypotheses that will be explored include:\n",
    "- School districts that have more students with access to computers and internet are more likely to have online learning teaching methods. \n",
    "- Students in poorer school districts with more racial minorities have seen the most school closures. \n",
    "- School districts implementing on-premise policies around masks, sports, returning from illness, and isolation have the least amount of school closures and most amount of on premise learning.\n",
    "- Counties with stricter school closures, online learning, and on campus protection policies will have a lower percent of Covid19 cases. \n",
    "\n",
    "Data exploration will also take into account the number of students in the school district along with the number of Covid19 cases per county which are factors also influencing school policies and education. \n",
    "\n",
    "## Background/Related Work\n",
    "\n",
    "According to the American Society for Microbiology, the decisions for how to structure K-12 learning during Covid19 is the responsibility of each school district or private institution [ASM article](https://asm.org/Articles/2020/August/A-National-Crisis-K-12-Education-During-the-COVID). The ASM article also points out that \"Centers for Disease Control and Prevention (CDC) data show the 5-17 year old age group has the highest SARS-CoV-2 test positivity rate of any age group\" which means K-12 students can easily spread Covid19 to others in their communities. In the case of the annual flu, \"The Director of the CDC, Robert Redfield, has been warning since late April about the specter of a second wave of coronavirus during flu season. A potential driver of this second wave could be K-12 students bringing 1 or both viruses home to their care providers, who are more vulnerable to these pathogens.\" Since schools are expected to be a hot spot for spreading Covid19, one of the hypotheses my analysis will investigate is whether county Covid19 cases tend to be better or worse depending on measures taken by the school districts. In preparation for school openings, ASM made a list of considerations for school distrincts to plan for such as new staff training, school bus policies, policies around student lockers, and additional hand washing stations many of which will not be in scope for this analysis. \n",
    "\n",
    "A similar analysis on Covid19 impact on K-12 students was performed by the Pew Research Center where data was collected via surveys from parents who were asked a series of questions about their children and their education during this time. According to this study, \"parents of children attending school fully in person are ... less likely to be concerned about their education\" but these parents also are concerned about their children's exposure to covid19 [Pew Research Center article](https://www.pewsocialtrends.org/2020/10/29/most-parents-of-k-12-students-learning-online-worry-about-them-falling-behind/). As a parent, this is an understandable concern and logically it would make sense for Covid19 to spread more rapidly with in person classes. To test this hypothesis, part of my analysis will investigate whether counties with higher in person schooling correlates with having higher Covid19 case counts. The Pew Research Center study also showed that lower income parents reported higher percentage of online only instruction and 72% stated they were concerned about their children falling behind in school whereas only 55% of upper income parents said they were concerned. In response to these findings, my analysis will investigate the hypothesis that lower income school districts are more likely to have online learning policies. Further, my analysis will also combine the MCH Covid19 data and the US government education statistics to determine the percent of students with computer and internet access especially in school districts with online learning policies. \n",
    "\n",
    "## Analysis Methodology\n",
    "\n",
    "This study will leverage data visualizations, correlation calculations, and logistic regression to investigate the research questions and hypotheses stated above. \n",
    "\n",
    "The distributions will be plotted and the data summaries will be compared for school district policies, Covid19 cases, and demographics across school districts. These plots and summaries will provide insight into data skew and any outliers. \n",
    "\n",
    "The correlations and p-values for the percent of Covid19 cases per county and the following in person school district policies will be calculated to determine which policies have the most impact on Covid19 cases. The results will also help inform whether implementing certain policies early could potentially be more useful at the start of future pandemics. This approach was selected since the data is easy to interpret and plot via a visualization and comparing the correlation value between these policies is straightforward. \n",
    "- Sports participation\n",
    "- Staff mask policy\n",
    "- Student mask policy\n",
    "- Student illness return policy\n",
    "- Student isolation area \n",
    "\n",
    "Logistic regression will be used to investigate which of the following attributes are most correlated with school closures, online learning, in person learning, and hardware/network investments. This approach was selected because each of the predictor variables can be split into binary labels. Moreover, the features are able to be easily compared which will help determine whether demographics play a significant role in the types of learning and investment students receive. \n",
    "- race\n",
    "- household income of students\n",
    "- access to computers/internet \n",
    "- % of Covid19 cases per county \n",
    "- Number of students enrolled \n"
   ],
   "cell_type": "code",
   "metadata": {},
   "execution_count": null,
   "outputs": []
  },
  {
   "cell_type": "code",
   "execution_count": 92,
   "metadata": {},
   "outputs": [],
   "source": [
    "import pandas as pd"
   ]
  },
  {
   "cell_type": "code",
   "execution_count": 150,
   "metadata": {},
   "outputs": [
    {
     "output_type": "execute_result",
     "data": {
      "text/plain": [
       "(58, 103)"
      ]
     },
     "metadata": {},
     "execution_count": 150
    }
   ],
   "source": [
    "covid_cases = pd.read_csv(\"Data/Covid19_CasesByCounty/csse_covid_19_daily_reports_us_11-01-2020.csv\")\n",
    "for x in range(2,3):\n",
    "    day = pd.read_csv(\"Data/Covid19_CasesByCounty/csse_covid_19_daily_reports_us_11-0\"+str(x)+\"-2020.csv\")\n",
    "    covid_cases = pd.merge(covid_cases, day, how='inner', on='UID')\n",
    "\n",
    "    \n",
    "\n",
    "for col_name in [\"Province_State\", \"Confirmed\", \"UID\"]:\n",
    "    for col in covid_cases.columns.values:\n",
    "        if col_name not in col:\n",
    "            covid_cases.drop(col, axis=1)          \n",
    "covid_cases.shape            "
   ]
  },
  {
   "cell_type": "code",
   "execution_count": 143,
   "metadata": {},
   "outputs": [
    {
     "output_type": "execute_result",
     "data": {
      "text/plain": [
       "   Province_State Country_Region          Last_Update      Lat     Long_  \\\n",
       "0         Alabama             US  2020-11-03 06:00:57  32.3182  -86.9023   \n",
       "1          Alaska             US  2020-11-03 06:00:57  61.3707 -152.4044   \n",
       "2  American Samoa             US  2020-11-03 06:00:57 -14.2710 -170.1320   \n",
       "3         Arizona             US  2020-11-03 06:00:57  33.7298 -111.4312   \n",
       "4        Arkansas             US  2020-11-03 06:00:57  34.9697  -92.3731   \n",
       "\n",
       "   Confirmed  Deaths  Recovered    Active  FIPS  Incident_Rate  People_Tested  \\\n",
       "0     194892    2973    81005.0  110914.0   1.0    3974.804132      1356420.0   \n",
       "1      17057      84     7110.0    9863.0   2.0    2331.640569       620170.0   \n",
       "2          0       0        NaN       0.0  60.0       0.000000         1768.0   \n",
       "3     248139    5982    41589.0  200568.0   4.0    3409.103555      1792602.0   \n",
       "4     113641    1985   101507.0   10149.0   5.0    3765.685247      1363429.0   \n",
       "\n",
       "   People_Hospitalized  Mortality_Rate       UID ISO3  Testing_Rate  \\\n",
       "0                  NaN        1.525460  84000001  USA  27664.059178   \n",
       "1                  NaN        0.492466  84000002  USA  84775.372670   \n",
       "2                  NaN             NaN        16  ASM   3177.512985   \n",
       "3                  NaN        2.410746  84000004  USA  24627.994192   \n",
       "4                  NaN        1.746729  84000005  USA  45179.508013   \n",
       "\n",
       "   Hospitalization_Rate  \n",
       "0                   NaN  \n",
       "1                   NaN  \n",
       "2                   NaN  \n",
       "3                   NaN  \n",
       "4                   NaN  "
      ],
      "text/html": "<div>\n<style scoped>\n    .dataframe tbody tr th:only-of-type {\n        vertical-align: middle;\n    }\n\n    .dataframe tbody tr th {\n        vertical-align: top;\n    }\n\n    .dataframe thead th {\n        text-align: right;\n    }\n</style>\n<table border=\"1\" class=\"dataframe\">\n  <thead>\n    <tr style=\"text-align: right;\">\n      <th></th>\n      <th>Province_State</th>\n      <th>Country_Region</th>\n      <th>Last_Update</th>\n      <th>Lat</th>\n      <th>Long_</th>\n      <th>Confirmed</th>\n      <th>Deaths</th>\n      <th>Recovered</th>\n      <th>Active</th>\n      <th>FIPS</th>\n      <th>Incident_Rate</th>\n      <th>People_Tested</th>\n      <th>People_Hospitalized</th>\n      <th>Mortality_Rate</th>\n      <th>UID</th>\n      <th>ISO3</th>\n      <th>Testing_Rate</th>\n      <th>Hospitalization_Rate</th>\n    </tr>\n  </thead>\n  <tbody>\n    <tr>\n      <th>0</th>\n      <td>Alabama</td>\n      <td>US</td>\n      <td>2020-11-03 06:00:57</td>\n      <td>32.3182</td>\n      <td>-86.9023</td>\n      <td>194892</td>\n      <td>2973</td>\n      <td>81005.0</td>\n      <td>110914.0</td>\n      <td>1.0</td>\n      <td>3974.804132</td>\n      <td>1356420.0</td>\n      <td>NaN</td>\n      <td>1.525460</td>\n      <td>84000001</td>\n      <td>USA</td>\n      <td>27664.059178</td>\n      <td>NaN</td>\n    </tr>\n    <tr>\n      <th>1</th>\n      <td>Alaska</td>\n      <td>US</td>\n      <td>2020-11-03 06:00:57</td>\n      <td>61.3707</td>\n      <td>-152.4044</td>\n      <td>17057</td>\n      <td>84</td>\n      <td>7110.0</td>\n      <td>9863.0</td>\n      <td>2.0</td>\n      <td>2331.640569</td>\n      <td>620170.0</td>\n      <td>NaN</td>\n      <td>0.492466</td>\n      <td>84000002</td>\n      <td>USA</td>\n      <td>84775.372670</td>\n      <td>NaN</td>\n    </tr>\n    <tr>\n      <th>2</th>\n      <td>American Samoa</td>\n      <td>US</td>\n      <td>2020-11-03 06:00:57</td>\n      <td>-14.2710</td>\n      <td>-170.1320</td>\n      <td>0</td>\n      <td>0</td>\n      <td>NaN</td>\n      <td>0.0</td>\n      <td>60.0</td>\n      <td>0.000000</td>\n      <td>1768.0</td>\n      <td>NaN</td>\n      <td>NaN</td>\n      <td>16</td>\n      <td>ASM</td>\n      <td>3177.512985</td>\n      <td>NaN</td>\n    </tr>\n    <tr>\n      <th>3</th>\n      <td>Arizona</td>\n      <td>US</td>\n      <td>2020-11-03 06:00:57</td>\n      <td>33.7298</td>\n      <td>-111.4312</td>\n      <td>248139</td>\n      <td>5982</td>\n      <td>41589.0</td>\n      <td>200568.0</td>\n      <td>4.0</td>\n      <td>3409.103555</td>\n      <td>1792602.0</td>\n      <td>NaN</td>\n      <td>2.410746</td>\n      <td>84000004</td>\n      <td>USA</td>\n      <td>24627.994192</td>\n      <td>NaN</td>\n    </tr>\n    <tr>\n      <th>4</th>\n      <td>Arkansas</td>\n      <td>US</td>\n      <td>2020-11-03 06:00:57</td>\n      <td>34.9697</td>\n      <td>-92.3731</td>\n      <td>113641</td>\n      <td>1985</td>\n      <td>101507.0</td>\n      <td>10149.0</td>\n      <td>5.0</td>\n      <td>3765.685247</td>\n      <td>1363429.0</td>\n      <td>NaN</td>\n      <td>1.746729</td>\n      <td>84000005</td>\n      <td>USA</td>\n      <td>45179.508013</td>\n      <td>NaN</td>\n    </tr>\n  </tbody>\n</table>\n</div>"
     },
     "metadata": {},
     "execution_count": 143
    }
   ],
   "source": [
    "covid_cases_2.head()\n",
    "[\"Province_State\", \"Confirmed\", \"UID\"]"
   ]
  },
  {
   "cell_type": "code",
   "execution_count": 134,
   "metadata": {},
   "outputs": [],
   "source": [
    "df_covid = pd.read_csv(\"Data/Covid19_K-12_Education/covid-data.csv\")\n",
    "df_counties = pd.read_csv(\"Data/County_SchoolDistrict_Intermediary/sdlist-19.csv\", encoding='gbk')\n",
    "df_daily = pd.read_csv(\"Data/Covid19_CasesByCounty/csse_covid_19_daily_reports_us_11-03-2020.csv\")"
   ]
  },
  {
   "cell_type": "code",
   "execution_count": 135,
   "metadata": {},
   "outputs": [
    {
     "output_type": "execute_result",
     "data": {
      "text/plain": [
       "(3340, 306)"
      ]
     },
     "metadata": {},
     "execution_count": 135
    }
   ],
   "source": [
    "df_daily.shape"
   ]
  },
  {
   "cell_type": "code",
   "execution_count": 125,
   "metadata": {},
   "outputs": [
    {
     "output_type": "execute_result",
     "data": {
      "text/plain": [
       "   Province_State Country_Region          Last_Update      Lat     Long_  \\\n",
       "0         Alabama             US  2020-11-04 05:30:25  32.3182  -86.9023   \n",
       "1          Alaska             US  2020-11-04 05:30:25  61.3707 -152.4044   \n",
       "2  American Samoa             US  2020-11-04 05:30:25 -14.2710 -170.1320   \n",
       "3         Arizona             US  2020-11-04 05:30:25  33.7298 -111.4312   \n",
       "4        Arkansas             US  2020-11-04 05:30:25  34.9697  -92.3731   \n",
       "\n",
       "   Confirmed  Deaths  Recovered    Active  FIPS  Incident_Rate  People_Tested  \\\n",
       "0     195929    2987    81005.0  111937.0   1.0    3995.953651      1363049.0   \n",
       "1      17448      84     7113.0   10251.0   2.0    2385.089092       624755.0   \n",
       "2          0       0        NaN       0.0  60.0       0.000000         1768.0   \n",
       "3     249818    6020    41776.0  202022.0   4.0    3432.170807      1803235.0   \n",
       "4     114519    2003   102666.0    9850.0   5.0    3794.779250      1368885.0   \n",
       "\n",
       "   People_Hospitalized  Mortality_Rate       UID ISO3  Testing_Rate  \\\n",
       "0                  NaN        1.524532  84000001  USA  27799.257014   \n",
       "1                  NaN        0.481431  84000002  USA  85402.128372   \n",
       "2                  NaN             NaN        16  ASM   3177.512985   \n",
       "3                  NaN        2.409754  84000004  USA  24774.077629   \n",
       "4                  NaN        1.749055  84000005  USA  45360.301729   \n",
       "\n",
       "   Hospitalization_Rate  UID_Counties  \n",
       "0                   NaN             1  \n",
       "1                   NaN             2  \n",
       "2                   NaN             0  \n",
       "3                   NaN             4  \n",
       "4                   NaN             5  "
      ],
      "text/html": "<div>\n<style scoped>\n    .dataframe tbody tr th:only-of-type {\n        vertical-align: middle;\n    }\n\n    .dataframe tbody tr th {\n        vertical-align: top;\n    }\n\n    .dataframe thead th {\n        text-align: right;\n    }\n</style>\n<table border=\"1\" class=\"dataframe\">\n  <thead>\n    <tr style=\"text-align: right;\">\n      <th></th>\n      <th>Province_State</th>\n      <th>Country_Region</th>\n      <th>Last_Update</th>\n      <th>Lat</th>\n      <th>Long_</th>\n      <th>Confirmed</th>\n      <th>Deaths</th>\n      <th>Recovered</th>\n      <th>Active</th>\n      <th>FIPS</th>\n      <th>Incident_Rate</th>\n      <th>People_Tested</th>\n      <th>People_Hospitalized</th>\n      <th>Mortality_Rate</th>\n      <th>UID</th>\n      <th>ISO3</th>\n      <th>Testing_Rate</th>\n      <th>Hospitalization_Rate</th>\n      <th>UID_Counties</th>\n    </tr>\n  </thead>\n  <tbody>\n    <tr>\n      <th>0</th>\n      <td>Alabama</td>\n      <td>US</td>\n      <td>2020-11-04 05:30:25</td>\n      <td>32.3182</td>\n      <td>-86.9023</td>\n      <td>195929</td>\n      <td>2987</td>\n      <td>81005.0</td>\n      <td>111937.0</td>\n      <td>1.0</td>\n      <td>3995.953651</td>\n      <td>1363049.0</td>\n      <td>NaN</td>\n      <td>1.524532</td>\n      <td>84000001</td>\n      <td>USA</td>\n      <td>27799.257014</td>\n      <td>NaN</td>\n      <td>1</td>\n    </tr>\n    <tr>\n      <th>1</th>\n      <td>Alaska</td>\n      <td>US</td>\n      <td>2020-11-04 05:30:25</td>\n      <td>61.3707</td>\n      <td>-152.4044</td>\n      <td>17448</td>\n      <td>84</td>\n      <td>7113.0</td>\n      <td>10251.0</td>\n      <td>2.0</td>\n      <td>2385.089092</td>\n      <td>624755.0</td>\n      <td>NaN</td>\n      <td>0.481431</td>\n      <td>84000002</td>\n      <td>USA</td>\n      <td>85402.128372</td>\n      <td>NaN</td>\n      <td>2</td>\n    </tr>\n    <tr>\n      <th>2</th>\n      <td>American Samoa</td>\n      <td>US</td>\n      <td>2020-11-04 05:30:25</td>\n      <td>-14.2710</td>\n      <td>-170.1320</td>\n      <td>0</td>\n      <td>0</td>\n      <td>NaN</td>\n      <td>0.0</td>\n      <td>60.0</td>\n      <td>0.000000</td>\n      <td>1768.0</td>\n      <td>NaN</td>\n      <td>NaN</td>\n      <td>16</td>\n      <td>ASM</td>\n      <td>3177.512985</td>\n      <td>NaN</td>\n      <td>0</td>\n    </tr>\n    <tr>\n      <th>3</th>\n      <td>Arizona</td>\n      <td>US</td>\n      <td>2020-11-04 05:30:25</td>\n      <td>33.7298</td>\n      <td>-111.4312</td>\n      <td>249818</td>\n      <td>6020</td>\n      <td>41776.0</td>\n      <td>202022.0</td>\n      <td>4.0</td>\n      <td>3432.170807</td>\n      <td>1803235.0</td>\n      <td>NaN</td>\n      <td>2.409754</td>\n      <td>84000004</td>\n      <td>USA</td>\n      <td>24774.077629</td>\n      <td>NaN</td>\n      <td>4</td>\n    </tr>\n    <tr>\n      <th>4</th>\n      <td>Arkansas</td>\n      <td>US</td>\n      <td>2020-11-04 05:30:25</td>\n      <td>34.9697</td>\n      <td>-92.3731</td>\n      <td>114519</td>\n      <td>2003</td>\n      <td>102666.0</td>\n      <td>9850.0</td>\n      <td>5.0</td>\n      <td>3794.779250</td>\n      <td>1368885.0</td>\n      <td>NaN</td>\n      <td>1.749055</td>\n      <td>84000005</td>\n      <td>USA</td>\n      <td>45360.301729</td>\n      <td>NaN</td>\n      <td>5</td>\n    </tr>\n  </tbody>\n</table>\n</div>"
     },
     "metadata": {},
     "execution_count": 125
    }
   ],
   "source": [
    "df_daily[\"UID_Counties\"] = df_daily[\"UID\"].apply(lambda f: 0 if math.isnan(f) else str(f))\n",
    "df_daily[\"UID_Counties\"] = df_daily[\"UID_Counties\"].apply(lambda f: f[3:] if len(f) == 8 else 0)\n",
    "df_daily[\"UID_Counties\"] = df_daily[\"UID_Counties\"].apply(lambda f: int(f))\n",
    "df_daily.head()"
   ]
  },
  {
   "cell_type": "code",
   "execution_count": 95,
   "metadata": {},
   "outputs": [],
   "source": [
    "def is_integer(n):\n",
    "    try:\n",
    "        float(n)\n",
    "    except ValueError:\n",
    "        return False\n",
    "    else:\n",
    "        return float(n).is_integer()"
   ]
  },
  {
   "cell_type": "code",
   "execution_count": 137,
   "metadata": {},
   "outputs": [],
   "source": [
    "df_counties['County FIPS Mod'] = df_counties['County FIPS'].apply(lambda f: int(f) if is_integer(f) else 0)"
   ]
  },
  {
   "cell_type": "code",
   "execution_count": 138,
   "metadata": {},
   "outputs": [
    {
     "output_type": "execute_result",
     "data": {
      "text/plain": [
       "(328, 314)"
      ]
     },
     "metadata": {},
     "execution_count": 138
    }
   ],
   "source": [
    "covid_cases_county = pd.merge(df_daily, df_counties, how='inner', left_on='UID_Counties', right_on='County FIPS Mod')\n",
    "covid_cases_county.shape"
   ]
  },
  {
   "cell_type": "code",
   "execution_count": 139,
   "metadata": {},
   "outputs": [
    {
     "output_type": "execute_result",
     "data": {
      "text/plain": [
       "(180, 335)"
      ]
     },
     "metadata": {},
     "execution_count": 139
    }
   ],
   "source": [
    "covid_cases_schools = pd.merge(df_covid, covid_cases_county, how='inner', left_on='DistrictName', right_on='School District Name')\n",
    "covid_cases_schools.shape"
   ]
  },
  {
   "cell_type": "code",
   "execution_count": 140,
   "metadata": {},
   "outputs": [
    {
     "output_type": "execute_result",
     "data": {
      "text/plain": [
       "(0, 335)"
      ]
     },
     "metadata": {},
     "execution_count": 140
    }
   ],
   "source": [
    "covid_cases_schools = covid_cases_schools[covid_cases_schools[\"UID_Counties\"] != 0]\n",
    "covid_cases_schools.shape"
   ]
  },
  {
   "cell_type": "code",
   "execution_count": 141,
   "metadata": {},
   "outputs": [
    {
     "output_type": "execute_result",
     "data": {
      "text/plain": [
       "Empty DataFrame\n",
       "Columns: [SchoolYear, DistrictNCES, DistrictID, DistrictName, Control, PhysicalCity, PhysicalState, Enrollment, OpenDate, TeachingMethod, SportsParticipation, OnlineInstructionIncrease, NetworkInvestment, HardwareInvestment, StaffMaskPolicy, StudentMaskPolicy, StudentIllnessReturnPolicy, StudentIsolationArea, SchoolTemporaryShutdown, ParentOptOutClassroomTeaching, LastVerifiedDate, UID, iso2, iso3, code3, FIPS, Admin2, Province_State, Country_Region, Lat, Long_, Combined_Key, 1/22/20, 1/23/20, 1/24/20, 1/25/20, 1/26/20, 1/27/20, 1/28/20, 1/29/20, 1/30/20, 1/31/20, 2/1/20, 2/2/20, 2/3/20, 2/4/20, 2/5/20, 2/6/20, 2/7/20, 2/8/20, 2/9/20, 2/10/20, 2/11/20, 2/12/20, 2/13/20, 2/14/20, 2/15/20, 2/16/20, 2/17/20, 2/18/20, 2/19/20, 2/20/20, 2/21/20, 2/22/20, 2/23/20, 2/24/20, 2/25/20, 2/26/20, 2/27/20, 2/28/20, 2/29/20, 3/1/20, 3/2/20, 3/3/20, 3/4/20, 3/5/20, 3/6/20, 3/7/20, 3/8/20, 3/9/20, 3/10/20, 3/11/20, 3/12/20, 3/13/20, 3/14/20, 3/15/20, 3/16/20, 3/17/20, 3/18/20, 3/19/20, 3/20/20, 3/21/20, 3/22/20, 3/23/20, 3/24/20, 3/25/20, 3/26/20, 3/27/20, 3/28/20, 3/29/20, ...]\n",
       "Index: []\n",
       "\n",
       "[0 rows x 335 columns]"
      ],
      "text/html": "<div>\n<style scoped>\n    .dataframe tbody tr th:only-of-type {\n        vertical-align: middle;\n    }\n\n    .dataframe tbody tr th {\n        vertical-align: top;\n    }\n\n    .dataframe thead th {\n        text-align: right;\n    }\n</style>\n<table border=\"1\" class=\"dataframe\">\n  <thead>\n    <tr style=\"text-align: right;\">\n      <th></th>\n      <th>SchoolYear</th>\n      <th>DistrictNCES</th>\n      <th>DistrictID</th>\n      <th>DistrictName</th>\n      <th>Control</th>\n      <th>PhysicalCity</th>\n      <th>PhysicalState</th>\n      <th>Enrollment</th>\n      <th>OpenDate</th>\n      <th>TeachingMethod</th>\n      <th>...</th>\n      <th>11/10/20</th>\n      <th>11/11/20</th>\n      <th>UID_Counties</th>\n      <th>State Postal Code</th>\n      <th>State FIPS</th>\n      <th>District ID Number</th>\n      <th>School District Name</th>\n      <th>County Names</th>\n      <th>County FIPS</th>\n      <th>County FIPS Mod</th>\n    </tr>\n  </thead>\n  <tbody>\n  </tbody>\n</table>\n<p>0 rows × 335 columns</p>\n</div>"
     },
     "metadata": {},
     "execution_count": 141
    }
   ],
   "source": [
    "covid_cases_schools.head()"
   ]
  }
 ]
}