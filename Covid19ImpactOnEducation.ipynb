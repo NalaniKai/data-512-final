{
 "metadata": {
  "language_info": {
   "codemirror_mode": {
    "name": "ipython",
    "version": 3
   },
   "file_extension": ".py",
   "mimetype": "text/x-python",
   "name": "python",
   "nbconvert_exporter": "python",
   "pygments_lexer": "ipython3",
   "version": "3.6.3-candidate"
  },
  "orig_nbformat": 2,
  "kernelspec": {
   "name": "python36364bitf7b0a21c4aca4c308ea561c4f3e5ac90",
   "display_name": "Python 3.6.3 64-bit"
  }
 },
 "nbformat": 4,
 "nbformat_minor": 2,
 "cells": [
  {
   "source": [
    "# Covid19 Impact on K-12 Education\n",
    "By Megan Nalani Chun  \n",
    "Last modified November 2020\n",
    "\n",
    "## Motivation and Problem Statement\n",
    "The children of today will be the decision makers of tomorrow and their education will help determine what those decisions will be. The Covid19 pandemic has changed daily normal activity drastically for people around the world and some areas of society have been impacted more than others. The focus of this study will be on K-12 education during Covid19 since the pandemic and lack of national government guidance has forced school districts to implement varying policies such as those in the data section below. I hope to learn the following:\n",
    "- How much school did students miss?\n",
    "- Under what factors is there a significant difference in the amount of school missed? If there was a similar pandemic, would early implementation of certain policies allow students to have a better continued education? \n",
    "- Do school districts with more income have more access to the internet? And are these districts more likely to have an online policy?\n",
    "\n",
    "## Data \n",
    "This analysis will be scoped to students enrolled in public and private schools across the United States. The following datasets will be used because of their completeness, trustworthiness, and accessibility in addition to their contents. Licensing and data source information can be found in the [readme](https://github.com/NalaniKai/data-512-final/blob/main/README.md).\n",
    "\n",
    "Combining these datasets by school districts and counties will enable the research questions to be explored.\n",
    "\n",
    "### Covid19 K-12 Education Data by MCH Strategic Data\n",
    "This dataset has the following information for 12,643 (86%) school districts in the US for the 2020-2021 school year:\n",
    "- Enrollment \n",
    "- School open date \n",
    "- Teaching methods (online, on premise, etc)\n",
    "- Sports participation \n",
    "- Online instruction increase\n",
    "- Network investment\n",
    "- Hardware investment\n",
    "- Staff mask policy\n",
    "- Student mask policy\n",
    "- Student illness return policy\n",
    "- Student isolation area \n",
    "- School temporary shutdown \n",
    "\n",
    "Data source: Covid19 K-12 Education Data by MCH Strategic Data. Compiled from public federal, state, and local school districts information and media updates. Go to the [Main page](https://www.mchdata.com/covid19/schoolclosings), scroll down, make a free account, and press the \"download list of districts\" button. Select subscribe and sign up for free subscription to download the dataset. No credit card information is needed.\n",
    "\n",
    "Licensing: [MCH 2019 Standard Licensing Stipulations and Conditions Agreement](https://www.mchdata.com/about/terms-conditions)\n",
    "\n",
    "### Demographic Data from the Institute of Education Sciences\n",
    "The following demographic data was pulled from this dataset for all school districts in the US:\n",
    "- Race \n",
    "- Income\n",
    "- Computer & internet availability \n",
    "- School enrollment\n",
    "\n",
    "Data source: Education Demographic and Geographic Estimates. National Center for Education Statistics. Institute of Education Sciences.   \n",
    "- [Dataset: ACS 2014-2018 Profile](https://nces.ed.gov/programs/edge/TableViewer/acsProfile/2018)  \n",
    "- Geography: All Districts  \n",
    "- Population: Relevant Children  \n",
    "- Tables:          \n",
    "        - CDP02.2 SCHOOL ENROLLMENT [CDP02.2_102_USSchoolDistrictAll_111231815433.txt](https://github.com/NalaniKai/data-512-final/blob/main/Data/CDP02.2_102_USSchoolDistrictAll_111231815433.txt)  \n",
    "        - CDP02.11 COMPUTERS AND INTERNET USE [CDP02.11_102_USSchoolDistrictAll_111233642475.txt](https://github.com/NalaniKai/data-512-final/blob/main/Data/CDP02.11_102_USSchoolDistrictAll_111233642475.txt)  \n",
    "        - CDP03.2 INCOME AND BENEFITS (IN 2018 INFLATION-ADJUSTED DOLLARS) [CDP03.2_102_USSchoolDistrictAll_111234614792.txt](https://github.com/NalaniKai/data-512-final/blob/main/Data/CDP03.2_102_USSchoolDistrictAll_111234614792.txt)  \n",
    "        - CDP05.2 RACE [CDP05.2_102_USSchoolDistrictAll_11123448541.txt](https://github.com/NalaniKai/data-512-final/blob/main/Data/CDP05.2_102_USSchoolDistrictAll_11123448541.txt)  \n",
    "\n",
    "Licensing: [Open Data Policy](https://digital.gov/open-data-policy-m-13-13/) \n",
    "\n",
    "### Johns Hopkins University COVID-19 Data\n",
    "This dataset has the daily Covid19 case counts by county and is continually being updated.\n",
    "\n",
    "Data source: COVID-19 Data Repository by the Center for Systems Science and Engineering (CSSE) at Johns Hopkins University. [csse_covid_19_time_series](https://github.com/CSSEGISandData/COVID-19/blob/master/csse_covid_19_data/csse_covid_19_time_series/)\n",
    "\n",
    "Licensing: [Public Domain U.S.- Johns Hopkins University Center for Systems Science and Engineering. [Creative Commons Attribution 4.0 International (CC BY 4.0)](https://creativecommons.org/licenses/by/4.0/deed.ast)\n",
    "\n",
    "### Intermediary Data Source for Covid19 Data Sources\n",
    "This dataset will be used to join the Covid19 school district data to the Covid19 case count data.\n",
    "\n",
    "Data source: United States Census Bureau [School Districts and Associated Counties](https://www.census.gov/programs-surveys/saipe/guidance-geographies/districts-counties.html).\n",
    "\n",
    "Licensing: [Public Domain U.S. Government](https://www.usa.gov/government-works)\n",
    "\n",
    "## Unknowns & Dependencies \n",
    "There are a couple dependencies and unknowns that will need to be checked: \n",
    "- the percent of matches when joining the above datasets by their school district IDs and county codes\n",
    "- the amount of missing data\n"
   ],
   "cell_type": "code",
   "metadata": {},
   "execution_count": null,
   "outputs": []
  },
  {
   "source": [
    "## Research questions and/or hypotheses\n",
    "\n",
    "The overarching research question for this analysis is: What is the impact of Covid19 on school closures and teaching methods for K-12 students across the US? How does this differ for students based on race, income, and computer/internet access?\n",
    "\n",
    "Hypotheses that will be explored include:\n",
    "- School districts that have more students with access to computers and internet are more likely to have online learning teaching methods. \n",
    "- Students in poorer school districts with more racial minorities have seen the most school closures. \n",
    "- School districts implementing on-premise policies around masks, sports, returning from illness, and isolation have the least amount of school closures and most amount of on premise learning.\n",
    "- Counties with stricter school closures, online learning, and on campus protection policies will have a lower percent of Covid19 cases. \n",
    "\n",
    "Data exploration will also take into account the number of students in the school district along with the number of Covid19 cases per county which are factors also influencing school policies and education. \n",
    "\n",
    "## Background/Related Work\n",
    "\n",
    "According to the American Society for Microbiology, the decisions for how to structure K-12 learning during Covid19 is the responsibility of each school district or private institution [ASM article](https://asm.org/Articles/2020/August/A-National-Crisis-K-12-Education-During-the-COVID). The ASM article also points out that \"Centers for Disease Control and Prevention (CDC) data show the 5-17 year old age group has the highest SARS-CoV-2 test positivity rate of any age group\" which means K-12 students can easily spread Covid19 to others in their communities. In the case of the annual flu, \"The Director of the CDC, Robert Redfield, has been warning since late April about the specter of a second wave of coronavirus during flu season. A potential driver of this second wave could be K-12 students bringing 1 or both viruses home to their care providers, who are more vulnerable to these pathogens.\" Since schools are expected to be a hot spot for spreading Covid19, one of the hypotheses my analysis will investigate is whether county Covid19 cases tend to be better or worse depending on measures taken by the school districts. In preparation for school openings, ASM made a list of considerations for school distrincts to plan for such as new staff training, school bus policies, policies around student lockers, and additional hand washing stations many of which will not be in scope for this analysis. \n",
    "\n",
    "A similar analysis on Covid19 impact on K-12 students was performed by the Pew Research Center where data was collected via surveys from parents who were asked a series of questions about their children and their education during this time. According to this study, \"parents of children attending school fully in person are ... less likely to be concerned about their education\" but these parents also are concerned about their children's exposure to covid19 [Pew Research Center article](https://www.pewsocialtrends.org/2020/10/29/most-parents-of-k-12-students-learning-online-worry-about-them-falling-behind/). As a parent, this is an understandable concern and logically it would make sense for Covid19 to spread more rapidly with in person classes. To test this hypothesis, part of my analysis will investigate whether counties with higher in person schooling correlates with having higher Covid19 case counts. The Pew Research Center study also showed that lower income parents reported higher percentage of online only instruction and 72% stated they were concerned about their children falling behind in school whereas only 55% of upper income parents said they were concerned. In response to these findings, my analysis will investigate the hypothesis that lower income school districts are more likely to have online learning policies. Further, my analysis will also combine the MCH Covid19 data and the US government education statistics to determine the percent of students with computer and internet access especially in school districts with online learning policies. \n",
    "\n",
    "## Analysis Methodology\n",
    "\n",
    "This study will leverage data visualizations, correlation calculations, and logistic regression to investigate the research questions and hypotheses stated above. \n",
    "\n",
    "The distributions will be plotted and the data summaries will be compared for school district policies, Covid19 cases, and demographics across school districts. These plots and summaries will provide insight into data skew and any outliers. \n",
    "\n",
    "The correlations and p-values for the percent of Covid19 cases per county and the following in person school district policies will be calculated to determine which policies have the most impact on Covid19 cases. The results will also help inform whether implementing certain policies early could potentially be more useful at the start of future pandemics. This approach was selected since the data is easy to interpret and plot via a visualization and comparing the correlation value between these policies is straightforward. \n",
    "- Sports participation\n",
    "- Staff mask policy\n",
    "- Student mask policy\n",
    "- Student illness return policy\n",
    "- Student isolation area \n",
    "\n",
    "Logistic regression will be used to investigate which of the following attributes are most correlated with school closures, online learning, in person learning, and hardware/network investments. This approach was selected because each of the predictor variables can be split into binary labels. Moreover, the features are able to be easily compared which will help determine whether demographics play a significant role in the types of learning and investment students receive. \n",
    "- race\n",
    "- household income of students\n",
    "- access to computers/internet \n",
    "- % of Covid19 cases per county \n",
    "- Number of students enrolled \n"
   ],
   "cell_type": "code",
   "metadata": {},
   "execution_count": null,
   "outputs": []
  },
  {
   "cell_type": "code",
   "execution_count": null,
   "metadata": {},
   "outputs": [],
   "source": [
    "## Step 1: Data Preparation"
   ]
  },
  {
   "cell_type": "code",
   "execution_count": 92,
   "metadata": {},
   "outputs": [],
   "source": [
    "import pandas as pd"
   ]
  },
  {
   "cell_type": "code",
   "execution_count": 223,
   "metadata": {},
   "outputs": [
    {
     "output_type": "execute_result",
     "data": {
      "text/plain": [
       "  SchoolYear  DistrictNCES  DistrictID                     DistrictName  \\\n",
       "0  2020-2021      200004.0      888659           Yupiit School District   \n",
       "1  2020-2021      200010.0      888610  Aleutian Region School District   \n",
       "2  2020-2021      200180.0      888658        Anchorage School District   \n",
       "3  2020-2021      200800.0      888657          Chugach School District   \n",
       "4  2020-2021      200730.0      888599          Chatham School District   \n",
       "\n",
       "  Control PhysicalCity PhysicalState  Enrollment    OpenDate TeachingMethod  \\\n",
       "0  Public     Akiachak            AK       463.0  08/12/2020    On Premises   \n",
       "1  Public    Anchorage            AK        27.0  09/08/2020    On Premises   \n",
       "2  Public    Anchorage            AK     48347.0  08/25/2020         Hybrid   \n",
       "3  Public    Anchorage            AK       517.0  08/17/2020    Online Only   \n",
       "4  Public       Angoon            AK       156.0  10/05/2020         Hybrid   \n",
       "\n",
       "        ...        OnlineInstructionIncrease NetworkInvestment  \\\n",
       "0       ...                               No                No   \n",
       "1       ...                          Unknown               Yes   \n",
       "2       ...                          Pending           Pending   \n",
       "3       ...                              Yes           Unknown   \n",
       "4       ...                          Unknown           Pending   \n",
       "\n",
       "  HardwareInvestment         StaffMaskPolicy          StudentMaskPolicy  \\\n",
       "0                 No                 Pending                    Pending   \n",
       "1                Yes  Required for all staff  Required for all students   \n",
       "2            Pending                 Pending                    Pending   \n",
       "3            Unknown  Required for all staff  Required for all students   \n",
       "4                Yes  Required for all staff  Required for all students   \n",
       "\n",
       "  StudentIllnessReturnPolicy StudentIsolationArea SchoolTemporaryShutdown  \\\n",
       "0                    Pending              Pending                 Pending   \n",
       "1                    Unknown              Unknown            Never closed   \n",
       "2                    Pending              Pending                 Pending   \n",
       "3                        Yes                  Yes        Closed 6-14 days   \n",
       "4                        Yes                  Yes        Closed 6-14 days   \n",
       "\n",
       "  ParentOptOutClassroomTeaching LastVerifiedDate  \n",
       "0                       Pending       08/12/2020  \n",
       "1                       Unknown       10/23/2020  \n",
       "2                           Yes       10/26/2020  \n",
       "3                           Yes       10/29/2020  \n",
       "4                           Yes       10/22/2020  \n",
       "\n",
       "[5 rows x 21 columns]"
      ],
      "text/html": "<div>\n<style scoped>\n    .dataframe tbody tr th:only-of-type {\n        vertical-align: middle;\n    }\n\n    .dataframe tbody tr th {\n        vertical-align: top;\n    }\n\n    .dataframe thead th {\n        text-align: right;\n    }\n</style>\n<table border=\"1\" class=\"dataframe\">\n  <thead>\n    <tr style=\"text-align: right;\">\n      <th></th>\n      <th>SchoolYear</th>\n      <th>DistrictNCES</th>\n      <th>DistrictID</th>\n      <th>DistrictName</th>\n      <th>Control</th>\n      <th>PhysicalCity</th>\n      <th>PhysicalState</th>\n      <th>Enrollment</th>\n      <th>OpenDate</th>\n      <th>TeachingMethod</th>\n      <th>...</th>\n      <th>OnlineInstructionIncrease</th>\n      <th>NetworkInvestment</th>\n      <th>HardwareInvestment</th>\n      <th>StaffMaskPolicy</th>\n      <th>StudentMaskPolicy</th>\n      <th>StudentIllnessReturnPolicy</th>\n      <th>StudentIsolationArea</th>\n      <th>SchoolTemporaryShutdown</th>\n      <th>ParentOptOutClassroomTeaching</th>\n      <th>LastVerifiedDate</th>\n    </tr>\n  </thead>\n  <tbody>\n    <tr>\n      <th>0</th>\n      <td>2020-2021</td>\n      <td>200004.0</td>\n      <td>888659</td>\n      <td>Yupiit School District</td>\n      <td>Public</td>\n      <td>Akiachak</td>\n      <td>AK</td>\n      <td>463.0</td>\n      <td>08/12/2020</td>\n      <td>On Premises</td>\n      <td>...</td>\n      <td>No</td>\n      <td>No</td>\n      <td>No</td>\n      <td>Pending</td>\n      <td>Pending</td>\n      <td>Pending</td>\n      <td>Pending</td>\n      <td>Pending</td>\n      <td>Pending</td>\n      <td>08/12/2020</td>\n    </tr>\n    <tr>\n      <th>1</th>\n      <td>2020-2021</td>\n      <td>200010.0</td>\n      <td>888610</td>\n      <td>Aleutian Region School District</td>\n      <td>Public</td>\n      <td>Anchorage</td>\n      <td>AK</td>\n      <td>27.0</td>\n      <td>09/08/2020</td>\n      <td>On Premises</td>\n      <td>...</td>\n      <td>Unknown</td>\n      <td>Yes</td>\n      <td>Yes</td>\n      <td>Required for all staff</td>\n      <td>Required for all students</td>\n      <td>Unknown</td>\n      <td>Unknown</td>\n      <td>Never closed</td>\n      <td>Unknown</td>\n      <td>10/23/2020</td>\n    </tr>\n    <tr>\n      <th>2</th>\n      <td>2020-2021</td>\n      <td>200180.0</td>\n      <td>888658</td>\n      <td>Anchorage School District</td>\n      <td>Public</td>\n      <td>Anchorage</td>\n      <td>AK</td>\n      <td>48347.0</td>\n      <td>08/25/2020</td>\n      <td>Hybrid</td>\n      <td>...</td>\n      <td>Pending</td>\n      <td>Pending</td>\n      <td>Pending</td>\n      <td>Pending</td>\n      <td>Pending</td>\n      <td>Pending</td>\n      <td>Pending</td>\n      <td>Pending</td>\n      <td>Yes</td>\n      <td>10/26/2020</td>\n    </tr>\n    <tr>\n      <th>3</th>\n      <td>2020-2021</td>\n      <td>200800.0</td>\n      <td>888657</td>\n      <td>Chugach School District</td>\n      <td>Public</td>\n      <td>Anchorage</td>\n      <td>AK</td>\n      <td>517.0</td>\n      <td>08/17/2020</td>\n      <td>Online Only</td>\n      <td>...</td>\n      <td>Yes</td>\n      <td>Unknown</td>\n      <td>Unknown</td>\n      <td>Required for all staff</td>\n      <td>Required for all students</td>\n      <td>Yes</td>\n      <td>Yes</td>\n      <td>Closed 6-14 days</td>\n      <td>Yes</td>\n      <td>10/29/2020</td>\n    </tr>\n    <tr>\n      <th>4</th>\n      <td>2020-2021</td>\n      <td>200730.0</td>\n      <td>888599</td>\n      <td>Chatham School District</td>\n      <td>Public</td>\n      <td>Angoon</td>\n      <td>AK</td>\n      <td>156.0</td>\n      <td>10/05/2020</td>\n      <td>Hybrid</td>\n      <td>...</td>\n      <td>Unknown</td>\n      <td>Pending</td>\n      <td>Yes</td>\n      <td>Required for all staff</td>\n      <td>Required for all students</td>\n      <td>Yes</td>\n      <td>Yes</td>\n      <td>Closed 6-14 days</td>\n      <td>Yes</td>\n      <td>10/22/2020</td>\n    </tr>\n  </tbody>\n</table>\n<p>5 rows × 21 columns</p>\n</div>"
     },
     "metadata": {},
     "execution_count": 223
    }
   ],
   "source": [
    "df_covid = pd.read_csv(\"Data/Covid19_K-12_Education/covid-data.csv\")\n",
    "df_covid.head()"
   ]
  },
  {
   "cell_type": "code",
   "execution_count": 242,
   "metadata": {},
   "outputs": [
    {
     "output_type": "execute_result",
     "data": {
      "text/plain": [
       "        UID   Admin2 Province_State  Population  Confirmed_Cases_Sept1_Nov17\n",
       "0  84001001  Autauga        Alabama       55869                           14\n",
       "1  84001003  Baldwin        Alabama      223234                           46\n",
       "2  84001005  Barbour        Alabama       24686                            2\n",
       "3  84001007     Bibb        Alabama       22394                           10\n",
       "4  84001009   Blount        Alabama       57826                           23"
      ],
      "text/html": "<div>\n<style scoped>\n    .dataframe tbody tr th:only-of-type {\n        vertical-align: middle;\n    }\n\n    .dataframe tbody tr th {\n        vertical-align: top;\n    }\n\n    .dataframe thead th {\n        text-align: right;\n    }\n</style>\n<table border=\"1\" class=\"dataframe\">\n  <thead>\n    <tr style=\"text-align: right;\">\n      <th></th>\n      <th>UID</th>\n      <th>Admin2</th>\n      <th>Province_State</th>\n      <th>Population</th>\n      <th>Confirmed_Cases_Sept1_Nov17</th>\n    </tr>\n  </thead>\n  <tbody>\n    <tr>\n      <th>0</th>\n      <td>84001001</td>\n      <td>Autauga</td>\n      <td>Alabama</td>\n      <td>55869</td>\n      <td>14</td>\n    </tr>\n    <tr>\n      <th>1</th>\n      <td>84001003</td>\n      <td>Baldwin</td>\n      <td>Alabama</td>\n      <td>223234</td>\n      <td>46</td>\n    </tr>\n    <tr>\n      <th>2</th>\n      <td>84001005</td>\n      <td>Barbour</td>\n      <td>Alabama</td>\n      <td>24686</td>\n      <td>2</td>\n    </tr>\n    <tr>\n      <th>3</th>\n      <td>84001007</td>\n      <td>Bibb</td>\n      <td>Alabama</td>\n      <td>22394</td>\n      <td>10</td>\n    </tr>\n    <tr>\n      <th>4</th>\n      <td>84001009</td>\n      <td>Blount</td>\n      <td>Alabama</td>\n      <td>57826</td>\n      <td>23</td>\n    </tr>\n  </tbody>\n</table>\n</div>"
     },
     "metadata": {},
     "execution_count": 242
    }
   ],
   "source": [
    "covid_cases = pd.read_csv(\"Data/Covid19_CasesByCounty/time_series_covid19_deaths_US.csv\")       #covid19 confirmed cases\n",
    "covid_cases[\"Confirmed_Cases_Sept1_Nov17\"] = covid_cases[\"11/17/20\"] - covid_cases[\"9/1/20\"]    #New confirmed cases between September 1, 2020 - November 17, 2020 \n",
    "keep_cols = [\"UID\", \"Admin2\", \"Province_State\", \"Population\", \"Confirmed_Cases_Sept1_Nov17\"]    \n",
    "covid_cases_cols = covid_cases.columns.values\n",
    "remove_cols = [c for c in covid_cases_cols if c not in keep_cols]\n",
    "covid_cases.drop(columns=remove_cols, axis=1, inplace=True)\n",
    "covid_cases.head()"
   ]
  },
  {
   "cell_type": "code",
   "execution_count": 243,
   "metadata": {},
   "outputs": [
    {
     "output_type": "execute_result",
     "data": {
      "text/plain": [
       "        UID   Admin2 Province_State  Population  Confirmed_Cases_Sept1_Nov17  \\\n",
       "0  84001001  Autauga        Alabama       55869                           14   \n",
       "1  84001003  Baldwin        Alabama      223234                           46   \n",
       "2  84001005  Barbour        Alabama       24686                            2   \n",
       "3  84001007     Bibb        Alabama       22394                           10   \n",
       "4  84001009   Blount        Alabama       57826                           23   \n",
       "\n",
       "   UID_Counties  \n",
       "0          1001  \n",
       "1          1003  \n",
       "2          1005  \n",
       "3          1007  \n",
       "4          1009  "
      ],
      "text/html": "<div>\n<style scoped>\n    .dataframe tbody tr th:only-of-type {\n        vertical-align: middle;\n    }\n\n    .dataframe tbody tr th {\n        vertical-align: top;\n    }\n\n    .dataframe thead th {\n        text-align: right;\n    }\n</style>\n<table border=\"1\" class=\"dataframe\">\n  <thead>\n    <tr style=\"text-align: right;\">\n      <th></th>\n      <th>UID</th>\n      <th>Admin2</th>\n      <th>Province_State</th>\n      <th>Population</th>\n      <th>Confirmed_Cases_Sept1_Nov17</th>\n      <th>UID_Counties</th>\n    </tr>\n  </thead>\n  <tbody>\n    <tr>\n      <th>0</th>\n      <td>84001001</td>\n      <td>Autauga</td>\n      <td>Alabama</td>\n      <td>55869</td>\n      <td>14</td>\n      <td>1001</td>\n    </tr>\n    <tr>\n      <th>1</th>\n      <td>84001003</td>\n      <td>Baldwin</td>\n      <td>Alabama</td>\n      <td>223234</td>\n      <td>46</td>\n      <td>1003</td>\n    </tr>\n    <tr>\n      <th>2</th>\n      <td>84001005</td>\n      <td>Barbour</td>\n      <td>Alabama</td>\n      <td>24686</td>\n      <td>2</td>\n      <td>1005</td>\n    </tr>\n    <tr>\n      <th>3</th>\n      <td>84001007</td>\n      <td>Bibb</td>\n      <td>Alabama</td>\n      <td>22394</td>\n      <td>10</td>\n      <td>1007</td>\n    </tr>\n    <tr>\n      <th>4</th>\n      <td>84001009</td>\n      <td>Blount</td>\n      <td>Alabama</td>\n      <td>57826</td>\n      <td>23</td>\n      <td>1009</td>\n    </tr>\n  </tbody>\n</table>\n</div>"
     },
     "metadata": {},
     "execution_count": 243
    }
   ],
   "source": [
    "#extract the state-county UID to join with the intermediary stream\n",
    "covid_cases[\"UID_Counties\"] = covid_cases[\"UID\"].apply(lambda f: 0 if math.isnan(f) else str(f))\n",
    "covid_cases[\"UID_Counties\"] = covid_cases[\"UID_Counties\"].apply(lambda f: f[3:] if len(f) == 8 else -1)\n",
    "covid_cases[\"UID_Counties\"] = covid_cases[\"UID_Counties\"].apply(lambda f: int(f))\n",
    "covid_cases = covid_cases[covid_cases[\"UID_Counties\"] > -1]\n",
    "covid_cases.head()"
   ]
  },
  {
   "cell_type": "code",
   "execution_count": 244,
   "metadata": {},
   "outputs": [
    {
     "output_type": "execute_result",
     "data": {
      "text/plain": [
       "  State Postal Code  District ID Number                 School District Name  \\\n",
       "0                AL                 190       Alabaster City School District   \n",
       "1                AL                   5     Albertville City School District   \n",
       "2                AL                  30  Alexander City City School District   \n",
       "3                AL                  60       Andalusia City School District   \n",
       "4                AL                  90        Anniston City School District   \n",
       "\n",
       "        County Names   FIPS  \n",
       "0      Shelby County  10117  \n",
       "1    Marshall County   1095  \n",
       "2  Tallapoosa County  10123  \n",
       "3   Covington County   1039  \n",
       "4     Calhoun County   1015  "
      ],
      "text/html": "<div>\n<style scoped>\n    .dataframe tbody tr th:only-of-type {\n        vertical-align: middle;\n    }\n\n    .dataframe tbody tr th {\n        vertical-align: top;\n    }\n\n    .dataframe thead th {\n        text-align: right;\n    }\n</style>\n<table border=\"1\" class=\"dataframe\">\n  <thead>\n    <tr style=\"text-align: right;\">\n      <th></th>\n      <th>State Postal Code</th>\n      <th>District ID Number</th>\n      <th>School District Name</th>\n      <th>County Names</th>\n      <th>FIPS</th>\n    </tr>\n  </thead>\n  <tbody>\n    <tr>\n      <th>0</th>\n      <td>AL</td>\n      <td>190</td>\n      <td>Alabaster City School District</td>\n      <td>Shelby County</td>\n      <td>10117</td>\n    </tr>\n    <tr>\n      <th>1</th>\n      <td>AL</td>\n      <td>5</td>\n      <td>Albertville City School District</td>\n      <td>Marshall County</td>\n      <td>1095</td>\n    </tr>\n    <tr>\n      <th>2</th>\n      <td>AL</td>\n      <td>30</td>\n      <td>Alexander City City School District</td>\n      <td>Tallapoosa County</td>\n      <td>10123</td>\n    </tr>\n    <tr>\n      <th>3</th>\n      <td>AL</td>\n      <td>60</td>\n      <td>Andalusia City School District</td>\n      <td>Covington County</td>\n      <td>1039</td>\n    </tr>\n    <tr>\n      <th>4</th>\n      <td>AL</td>\n      <td>90</td>\n      <td>Anniston City School District</td>\n      <td>Calhoun County</td>\n      <td>1015</td>\n    </tr>\n  </tbody>\n</table>\n</div>"
     },
     "metadata": {},
     "execution_count": 244
    }
   ],
   "source": [
    "#combine the state and county FIPS to join with the covid cases dataset \n",
    "df_counties = pd.read_csv(\"Data/County_SchoolDistrict_Intermediary/sdlist-19.csv\", encoding='gbk')\n",
    "df_counties[\"FIPS\"] = df_counties.apply(lambda r: str(r[\"State FIPS\"]) + \"0\" + str(r[\"County FIPS\"]) if len(str(r[\"State FIPS\"])) == 1 else str(r[\"State FIPS\"]) + str(r[\"County FIPS\"]), axis=1)\n",
    "df_counties = df_counties.drop(columns=[\"State FIPS\", \"County FIPS\"], axis=1)\n",
    "\n",
    "def is_integer(n):\n",
    "    try:\n",
    "        float(n)\n",
    "    except ValueError:\n",
    "        return False\n",
    "    else:\n",
    "        return float(n).is_integer()\n",
    "\n",
    "#convert to int\n",
    "df_counties['FIPS'] = df_counties['FIPS'].apply(lambda f: int(f) if is_integer(f) else -1)\n",
    "df_counties = df_counties[df_counties['FIPS'] > -1]\n",
    "df_counties.head()"
   ]
  },
  {
   "cell_type": "code",
   "execution_count": 246,
   "metadata": {},
   "outputs": [
    {
     "output_type": "execute_result",
     "data": {
      "text/plain": [
       "        UID   Admin2 Province_State  Population  Confirmed_Cases_Sept1_Nov17  \\\n",
       "0  84001011  Bullock        Alabama       10101                            6   \n",
       "1  84001013   Butler        Alabama       19448                            5   \n",
       "2  84001015  Calhoun        Alabama      113605                           45   \n",
       "3  84001015  Calhoun        Alabama      113605                           45   \n",
       "4  84001015  Calhoun        Alabama      113605                           45   \n",
       "\n",
       "   UID_Counties State Postal Code  District ID Number  \\\n",
       "0          1011                AL                 480   \n",
       "1          1013                AL                 510   \n",
       "2          1015                AL                  90   \n",
       "3          1015                AL                 540   \n",
       "4          1015                AL                1860   \n",
       "\n",
       "                School District Name    County Names  FIPS  \n",
       "0     Bullock County School District  Bullock County  1011  \n",
       "1      Butler County School District   Butler County  1013  \n",
       "2      Anniston City School District  Calhoun County  1015  \n",
       "3     Calhoun County School District  Calhoun County  1015  \n",
       "4  Jacksonville City School District  Calhoun County  1015  "
      ],
      "text/html": "<div>\n<style scoped>\n    .dataframe tbody tr th:only-of-type {\n        vertical-align: middle;\n    }\n\n    .dataframe tbody tr th {\n        vertical-align: top;\n    }\n\n    .dataframe thead th {\n        text-align: right;\n    }\n</style>\n<table border=\"1\" class=\"dataframe\">\n  <thead>\n    <tr style=\"text-align: right;\">\n      <th></th>\n      <th>UID</th>\n      <th>Admin2</th>\n      <th>Province_State</th>\n      <th>Population</th>\n      <th>Confirmed_Cases_Sept1_Nov17</th>\n      <th>UID_Counties</th>\n      <th>State Postal Code</th>\n      <th>District ID Number</th>\n      <th>School District Name</th>\n      <th>County Names</th>\n      <th>FIPS</th>\n    </tr>\n  </thead>\n  <tbody>\n    <tr>\n      <th>0</th>\n      <td>84001011</td>\n      <td>Bullock</td>\n      <td>Alabama</td>\n      <td>10101</td>\n      <td>6</td>\n      <td>1011</td>\n      <td>AL</td>\n      <td>480</td>\n      <td>Bullock County School District</td>\n      <td>Bullock County</td>\n      <td>1011</td>\n    </tr>\n    <tr>\n      <th>1</th>\n      <td>84001013</td>\n      <td>Butler</td>\n      <td>Alabama</td>\n      <td>19448</td>\n      <td>5</td>\n      <td>1013</td>\n      <td>AL</td>\n      <td>510</td>\n      <td>Butler County School District</td>\n      <td>Butler County</td>\n      <td>1013</td>\n    </tr>\n    <tr>\n      <th>2</th>\n      <td>84001015</td>\n      <td>Calhoun</td>\n      <td>Alabama</td>\n      <td>113605</td>\n      <td>45</td>\n      <td>1015</td>\n      <td>AL</td>\n      <td>90</td>\n      <td>Anniston City School District</td>\n      <td>Calhoun County</td>\n      <td>1015</td>\n    </tr>\n    <tr>\n      <th>3</th>\n      <td>84001015</td>\n      <td>Calhoun</td>\n      <td>Alabama</td>\n      <td>113605</td>\n      <td>45</td>\n      <td>1015</td>\n      <td>AL</td>\n      <td>540</td>\n      <td>Calhoun County School District</td>\n      <td>Calhoun County</td>\n      <td>1015</td>\n    </tr>\n    <tr>\n      <th>4</th>\n      <td>84001015</td>\n      <td>Calhoun</td>\n      <td>Alabama</td>\n      <td>113605</td>\n      <td>45</td>\n      <td>1015</td>\n      <td>AL</td>\n      <td>1860</td>\n      <td>Jacksonville City School District</td>\n      <td>Calhoun County</td>\n      <td>1015</td>\n    </tr>\n  </tbody>\n</table>\n</div>"
     },
     "metadata": {},
     "execution_count": 246
    }
   ],
   "source": [
    "#get the number of confirmed covid19 cases by school district per county \n",
    "covid_cases_county = pd.merge(covid_cases, df_counties, how='inner', left_on='UID_Counties', right_on='FIPS')\n",
    "covid_cases_county.head()"
   ]
  },
  {
   "cell_type": "code",
   "execution_count": 252,
   "metadata": {},
   "outputs": [
    {
     "output_type": "execute_result",
     "data": {
      "text/plain": [
       "   DistrictNCES                     DistrictName Control PhysicalCity  \\\n",
       "0      200004.0           Yupiit School District  Public     Akiachak   \n",
       "1      200760.0           Kuspuk School District  Public        Aniak   \n",
       "2      200001.0  Lower Kuskokwim School District  Public       Bethel   \n",
       "3      200770.0   Denali Borough School District  Public        Healy   \n",
       "4      200520.0    Iditarod Area School District  Public      McGrath   \n",
       "\n",
       "  PhysicalState  Enrollment TeachingMethod SportsParticipation  \\\n",
       "0            AK       463.0    On Premises                  No   \n",
       "1            AK       385.0        Pending             Pending   \n",
       "2            AK      4310.0        Unknown             Unknown   \n",
       "3            AK       950.0    On Premises                  No   \n",
       "4            AK       330.0        Pending             Pending   \n",
       "\n",
       "  OnlineInstructionIncrease NetworkInvestment HardwareInvestment  \\\n",
       "0                        No                No                 No   \n",
       "1                   Pending           Pending            Pending   \n",
       "2                   Unknown               Yes                Yes   \n",
       "3                        No               Yes                 No   \n",
       "4                   Pending           Pending            Pending   \n",
       "\n",
       "          StaffMaskPolicy          StudentMaskPolicy  \\\n",
       "0                 Pending                    Pending   \n",
       "1                 Pending                    Pending   \n",
       "2  Required for all staff  Required for all students   \n",
       "3  Required for all staff  Required for all students   \n",
       "4                 Pending                    Pending   \n",
       "\n",
       "  StudentIllnessReturnPolicy StudentIsolationArea SchoolTemporaryShutdown  \\\n",
       "0                    Pending              Pending                 Pending   \n",
       "1                    Pending              Pending                 Pending   \n",
       "2                    Unknown              Unknown                 Unknown   \n",
       "3                        Yes                  Yes            Never closed   \n",
       "4                    Pending              Pending                 Pending   \n",
       "\n",
       "  ParentOptOutClassroomTeaching  Population  Confirmed_Cases_Sept1_Nov17  \n",
       "0                       Pending       18386                            0  \n",
       "1                       Pending       18386                            0  \n",
       "2                           Yes       18386                            0  \n",
       "3                           Yes        2097                            0  \n",
       "4                       Pending       18386                            0  "
      ],
      "text/html": "<div>\n<style scoped>\n    .dataframe tbody tr th:only-of-type {\n        vertical-align: middle;\n    }\n\n    .dataframe tbody tr th {\n        vertical-align: top;\n    }\n\n    .dataframe thead th {\n        text-align: right;\n    }\n</style>\n<table border=\"1\" class=\"dataframe\">\n  <thead>\n    <tr style=\"text-align: right;\">\n      <th></th>\n      <th>DistrictNCES</th>\n      <th>DistrictName</th>\n      <th>Control</th>\n      <th>PhysicalCity</th>\n      <th>PhysicalState</th>\n      <th>Enrollment</th>\n      <th>TeachingMethod</th>\n      <th>SportsParticipation</th>\n      <th>OnlineInstructionIncrease</th>\n      <th>NetworkInvestment</th>\n      <th>HardwareInvestment</th>\n      <th>StaffMaskPolicy</th>\n      <th>StudentMaskPolicy</th>\n      <th>StudentIllnessReturnPolicy</th>\n      <th>StudentIsolationArea</th>\n      <th>SchoolTemporaryShutdown</th>\n      <th>ParentOptOutClassroomTeaching</th>\n      <th>Population</th>\n      <th>Confirmed_Cases_Sept1_Nov17</th>\n    </tr>\n  </thead>\n  <tbody>\n    <tr>\n      <th>0</th>\n      <td>200004.0</td>\n      <td>Yupiit School District</td>\n      <td>Public</td>\n      <td>Akiachak</td>\n      <td>AK</td>\n      <td>463.0</td>\n      <td>On Premises</td>\n      <td>No</td>\n      <td>No</td>\n      <td>No</td>\n      <td>No</td>\n      <td>Pending</td>\n      <td>Pending</td>\n      <td>Pending</td>\n      <td>Pending</td>\n      <td>Pending</td>\n      <td>Pending</td>\n      <td>18386</td>\n      <td>0</td>\n    </tr>\n    <tr>\n      <th>1</th>\n      <td>200760.0</td>\n      <td>Kuspuk School District</td>\n      <td>Public</td>\n      <td>Aniak</td>\n      <td>AK</td>\n      <td>385.0</td>\n      <td>Pending</td>\n      <td>Pending</td>\n      <td>Pending</td>\n      <td>Pending</td>\n      <td>Pending</td>\n      <td>Pending</td>\n      <td>Pending</td>\n      <td>Pending</td>\n      <td>Pending</td>\n      <td>Pending</td>\n      <td>Pending</td>\n      <td>18386</td>\n      <td>0</td>\n    </tr>\n    <tr>\n      <th>2</th>\n      <td>200001.0</td>\n      <td>Lower Kuskokwim School District</td>\n      <td>Public</td>\n      <td>Bethel</td>\n      <td>AK</td>\n      <td>4310.0</td>\n      <td>Unknown</td>\n      <td>Unknown</td>\n      <td>Unknown</td>\n      <td>Yes</td>\n      <td>Yes</td>\n      <td>Required for all staff</td>\n      <td>Required for all students</td>\n      <td>Unknown</td>\n      <td>Unknown</td>\n      <td>Unknown</td>\n      <td>Yes</td>\n      <td>18386</td>\n      <td>0</td>\n    </tr>\n    <tr>\n      <th>3</th>\n      <td>200770.0</td>\n      <td>Denali Borough School District</td>\n      <td>Public</td>\n      <td>Healy</td>\n      <td>AK</td>\n      <td>950.0</td>\n      <td>On Premises</td>\n      <td>No</td>\n      <td>No</td>\n      <td>Yes</td>\n      <td>No</td>\n      <td>Required for all staff</td>\n      <td>Required for all students</td>\n      <td>Yes</td>\n      <td>Yes</td>\n      <td>Never closed</td>\n      <td>Yes</td>\n      <td>2097</td>\n      <td>0</td>\n    </tr>\n    <tr>\n      <th>4</th>\n      <td>200520.0</td>\n      <td>Iditarod Area School District</td>\n      <td>Public</td>\n      <td>McGrath</td>\n      <td>AK</td>\n      <td>330.0</td>\n      <td>Pending</td>\n      <td>Pending</td>\n      <td>Pending</td>\n      <td>Pending</td>\n      <td>Pending</td>\n      <td>Pending</td>\n      <td>Pending</td>\n      <td>Pending</td>\n      <td>Pending</td>\n      <td>Pending</td>\n      <td>Pending</td>\n      <td>18386</td>\n      <td>0</td>\n    </tr>\n  </tbody>\n</table>\n</div>"
     },
     "metadata": {},
     "execution_count": 252
    }
   ],
   "source": [
    "#get the number of confirmed covid19 cases per school district with their 2020-2021 school year policies \n",
    "covid_cases_schools = pd.merge(df_covid, covid_cases_county, how='inner', left_on='DistrictName', right_on='School District Name')\n",
    "remove_cols = ['SchoolYear', 'DistrictID', 'OpenDate', 'LastVerifiedDate', 'UID', 'Admin2', 'Province_State',\n",
    "'UID_Counties', 'State Postal Code', 'District ID Number', 'School District Name', 'County Names', 'FIPS']\n",
    "covid_cases_schools.drop(columns=remove_cols, axis=1, inplace=True)\n",
    "covid_cases_schools.head()"
   ]
  }
 ]
}